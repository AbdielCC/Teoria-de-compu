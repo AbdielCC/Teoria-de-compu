{
 "cells": [
  {
   "cell_type": "markdown",
   "metadata": {},
   "source": [
    "# Tarea 01\n",
    "## Teoria de la computacion\n",
    "![img](https://imgs.search.brave.com/IGJUOrKWTz-bnFOL4hGIv6Id086V-tWx4rqhK79G2yU/rs:fit:860:0:0:0/g:ce/aHR0cHM6Ly93YWxs/cGFwZXJzLmNvbS9p/bWFnZXMvZmVhdHVy/ZWQvc29sby1sZXZl/bGluZy00ay1yMHg3/MXFzeG51eGU3Z3pv/LmpwZw)\n",
    "# Indice\n",
    "1. [implementacion](#implementacion-de-las-funciones-de-la-tarea)\n",
    "1. [librerias](#librerias)\n",
    "1. [Clase 1](#clase1)\n",
    "- [Symbol](#symbol)\n",
    "- [Alphabet](#alphabet)\n",
    "- [Word](#word)\n",
    "- [Language](#language)\n",
    "- [RE](#re)\n",
    "- [Empty](#empty)\n",
    "- [Epsilon](#epsilon)\n",
    "- [Sym](#sym)\n",
    "- [Conc](#conc)\n",
    "- [Union](#union)\n",
    "- [Kleene](#kleene)\n",
    "1. [ejemplo de uso](#ejemplo-de-uso)\n",
    "1. [Clase2](#clase)\n",
    "- [CharWithEpsilon](#charwithepsilon)\n",
    "- [AutomataFinito](#automatafinito)\n",
    "- [DFA(AutomataFinito)](#dfa)\n",
    "- [NFAE(AutomataFinito)](#nfae)\n",
    "1. [ejemplo de uso 2](#ejemplo-de-uso-2)"
   ]
  },
  {
   "cell_type": "markdown",
   "metadata": {},
   "source": [
    "### Librerias"
   ]
  },
  {
   "cell_type": "code",
   "execution_count": 1,
   "metadata": {},
   "outputs": [],
   "source": [
    "# Clase RE que representa una expresión regular\n",
    "from abc import ABC, abstractmethod\n",
    "from typing import Dict, Set, List, Union,Optional"
   ]
  },
  {
   "cell_type": "markdown",
   "metadata": {},
   "source": [
    "### Clase1\n",
    "1. [Symbol](#symbol)\n",
    "- init\n",
    "- eq \n",
    "- lt\n",
    "- str\n",
    "1. [Alphabet](#alphabet)\n",
    "- init\n",
    "- add_symbol\n",
    "- contains\n",
    "- str\n",
    "1. [Word](#word)\n",
    "- init\n",
    "- eq\n",
    "- str\n",
    "1. [Language](#language)\n",
    "- init\n",
    "- add_word\n",
    "- contains\n",
    "- str\n",
    "1. [RE (ABC):](#re)\n",
    "- str\n",
    "1. Empty\n",
    "- str\n",
    "1. [Epsilon](#epsilon)\n",
    "- str\n",
    "1. [Sym](#sym)\n",
    "- init\n",
    "- str\n",
    "1. [Conc](#conc)\n",
    "- init\n",
    "- str\n",
    "1. [Union](#conc)\n",
    "- init\n",
    "- str\n",
    "1. [Kleene](#kleene)\n",
    "- init\n",
    "- str"
   ]
  },
  {
   "cell_type": "markdown",
   "metadata": {},
   "source": [
    "## Symbol\n",
    "[Regresa](#indice)"
   ]
  },
  {
   "cell_type": "code",
   "execution_count": 2,
   "metadata": {},
   "outputs": [],
   "source": [
    "# Clase Symbol que representa un símbolo ASCII o ε\n",
    "class Symbol:\n",
    "    def __init__(self, char: str):\n",
    "        if char == \"ε\" or (len(char) == 1 and ord(char) < 128):\n",
    "            self.char = char\n",
    "        else:\n",
    "            raise ValueError(\"El símbolo debe ser un carácter ASCII o ε\")\n",
    "\n",
    "    def __eq__(self, other):\n",
    "        return isinstance(other, Symbol) and self.char == other.char\n",
    "\n",
    "    def __lt__(self, other):\n",
    "        return isinstance(other, Symbol) and self.char < other.char\n",
    "\n",
    "    def __str__(self):\n",
    "        return self.char"
   ]
  },
  {
   "cell_type": "markdown",
   "metadata": {},
   "source": [
    "## Alphabet\n",
    "[regresar](#indice)"
   ]
  },
  {
   "cell_type": "code",
   "execution_count": 3,
   "metadata": {},
   "outputs": [],
   "source": [
    "# Clase Alphabet que representa un alfabeto\n",
    "class Alphabet:\n",
    "    def __init__(self, symbols=None):\n",
    "        if symbols is None:\n",
    "            symbols = set()\n",
    "        self.symbols = set(symbols)\n",
    "\n",
    "    def add_symbol(self, symbol: Symbol):\n",
    "        self.symbols.add(symbol)\n",
    "\n",
    "    def __contains__(self, symbol):\n",
    "        return symbol in self.symbols\n",
    "\n",
    "    def __str__(self):\n",
    "        return \"{\" + \", \".join(str(s) for s in self.symbols) + \"}\""
   ]
  },
  {
   "cell_type": "markdown",
   "metadata": {},
   "source": [
    "## Word\n",
    "[regresar](#indice)"
   ]
  },
  {
   "cell_type": "code",
   "execution_count": 4,
   "metadata": {},
   "outputs": [],
   "source": [
    "# Clase Word que representa una cadena de símbolos\n",
    "class Word:\n",
    "    def __init__(self, symbols=None):\n",
    "        if symbols is None:\n",
    "            symbols = []\n",
    "        self.symbols = symbols\n",
    "\n",
    "    def __eq__(self, other):\n",
    "        return isinstance(other, Word) and self.symbols == other.symbols\n",
    "\n",
    "    def __str__(self):\n",
    "        if not self.symbols:\n",
    "            return \"ε\"\n",
    "        return \"\".join(str(symbol) for symbol in self.symbols)"
   ]
  },
  {
   "cell_type": "markdown",
   "metadata": {},
   "source": [
    "## Language\n",
    "[regresar](#indice)"
   ]
  },
  {
   "cell_type": "code",
   "execution_count": 5,
   "metadata": {},
   "outputs": [],
   "source": [
    "# Clase Language que representa un lenguaje \n",
    "class Language:\n",
    "    def __init__(self, words=None):\n",
    "        if words is None:\n",
    "            words = set()\n",
    "        self.words = set(words)\n",
    "\n",
    "    def add_word(self, word: Word):\n",
    "        self.words.add(word)\n",
    "\n",
    "    def __contains__(self, word):\n",
    "        return word in self.words\n",
    "\n",
    "    def __str__(self):\n",
    "        return \"{\" + \", \".join(str(w) for w in self.words) + \"}\""
   ]
  },
  {
   "cell_type": "markdown",
   "metadata": {},
   "source": [
    "## RE\n",
    "[regresar](#indice)"
   ]
  },
  {
   "cell_type": "code",
   "execution_count": 6,
   "metadata": {},
   "outputs": [],
   "source": [
    "# Clase abstracta base para todas las expresiones regulares\n",
    "class RE(ABC):\n",
    "    @abstractmethod\n",
    "    def __str__(self):\n",
    "        pass"
   ]
  },
  {
   "cell_type": "markdown",
   "metadata": {},
   "source": [
    "## Empty\n",
    "[regresar](#indice)"
   ]
  },
  {
   "cell_type": "code",
   "execution_count": 7,
   "metadata": {},
   "outputs": [],
   "source": [
    "# Clase que representa la expresión regular vacía (Empty)\n",
    "class Empty(RE):\n",
    "    def __str__(self):\n",
    "        return \"∅\""
   ]
  },
  {
   "cell_type": "markdown",
   "metadata": {},
   "source": [
    "## Epsilon\n",
    "[regresar](#indice)"
   ]
  },
  {
   "cell_type": "code",
   "execution_count": 8,
   "metadata": {},
   "outputs": [],
   "source": [
    "# Clase que representa el lenguaje {ε} (Epsilon)\n",
    "class Epsilon(RE):\n",
    "    def __str__(self):\n",
    "        return \"ε\""
   ]
  },
  {
   "cell_type": "markdown",
   "metadata": {},
   "source": [
    "## Sym\n",
    "[regresar](#indice)"
   ]
  },
  {
   "cell_type": "code",
   "execution_count": 9,
   "metadata": {},
   "outputs": [],
   "source": [
    "# Clase que representa un símbolo ASCII (Sym)\n",
    "class Sym(RE):\n",
    "    def __init__(self, char: str):\n",
    "        self.char = char\n",
    "\n",
    "    def __str__(self):\n",
    "        return self.char"
   ]
  },
  {
   "cell_type": "markdown",
   "metadata": {},
   "source": [
    "## Conc\n",
    "[regresar](#indice)"
   ]
  },
  {
   "cell_type": "code",
   "execution_count": 10,
   "metadata": {},
   "outputs": [],
   "source": [
    "# Clase que representa la concatenación de dos expresiones regulares (Conc)\n",
    "class Conc(RE):\n",
    "    def __init__(self, e1: RE, e2: RE):\n",
    "        self.e1 = e1\n",
    "        self.e2 = e2\n",
    "\n",
    "    def __str__(self):\n",
    "        return f\"({self.e1} . {self.e2})\""
   ]
  },
  {
   "cell_type": "markdown",
   "metadata": {},
   "source": [
    "## Union\n",
    "[regresar](#indice)"
   ]
  },
  {
   "cell_type": "code",
   "execution_count": 11,
   "metadata": {},
   "outputs": [],
   "source": [
    "# Clase que representa la unión de dos expresiones regulares \n",
    "class Union(RE):\n",
    "    def __init__(self, e1: RE, e2: RE):\n",
    "        self.e1 = e1\n",
    "        self.e2 = e2\n",
    "\n",
    "    def __str__(self):\n",
    "        return f\"({self.e1} + {self.e2})\""
   ]
  },
  {
   "cell_type": "markdown",
   "metadata": {},
   "source": [
    "## Kleene\n",
    "[regresar](#indice)"
   ]
  },
  {
   "cell_type": "code",
   "execution_count": 12,
   "metadata": {},
   "outputs": [],
   "source": [
    "# Clase que representa la estrella de Kleene de una expresión regular \n",
    "class Kleene(RE):\n",
    "    def __init__(self, e: RE):\n",
    "        self.e = e\n",
    "\n",
    "    def __str__(self):\n",
    "        return f\"({self.e})*\""
   ]
  },
  {
   "cell_type": "markdown",
   "metadata": {},
   "source": [
    "## Ejemplo de uso\n",
    "[regresar](#indice)"
   ]
  },
  {
   "cell_type": "code",
   "execution_count": 13,
   "metadata": {},
   "outputs": [
    {
     "name": "stdout",
     "output_type": "stream",
     "text": [
      "Ejemplos de uso de Expresiones Regulares \n",
      "a\n",
      "(a . b)\n",
      "(a + b)\n",
      "(a)*\n",
      "((a + b))*\n"
     ]
    }
   ],
   "source": [
    "#Ejemplos de uso\n",
    "r1 = Sym('a')                   # Representa el símbolo 'a'\n",
    "r2 = Conc(Sym('a'), Sym('b'))   # Representa \"a . b\"\n",
    "r3 = Union(Sym('a'), Sym('b'))  # Representa \"a + b\"\n",
    "r4 = Kleene(Sym('a'))           # Representa \"a*\"\n",
    "r5 = Kleene(r3)                 # Representa \"(a + b)*\"\n",
    "print(\"Ejemplos de uso de Expresiones Regulares \")\n",
    "print(r1)  # Salida: a\n",
    "print(r2)  # Salida: (a . b)\n",
    "print(r3)  # Salida: (a + b)\n",
    "print(r4)  # Salida: (a)*\n",
    "print(r5)  # Salida: ((a + b))*"
   ]
  },
  {
   "cell_type": "markdown",
   "metadata": {},
   "source": [
    "### Clase\n",
    "1. [CharWithEpsilon](#charwithepsilon)\n",
    "1. [AutomataFinito](#automatafinito)\n",
    "1. [DFA(AutomataFinito)](#dfa)\n",
    "1. [NFAE(AutomataFinito)](#nfae)\n",
    "[regresar](#indice)"
   ]
  },
  {
   "cell_type": "markdown",
   "metadata": {},
   "source": [
    "## CharWithEpsilon\n",
    "[regresar](#indice)"
   ]
  },
  {
   "cell_type": "code",
   "execution_count": 14,
   "metadata": {},
   "outputs": [],
   "source": [
    "# Clase AutomataFinito como base para AFD y AFNE\n",
    "\n",
    "\n",
    "# Clase para representar un símbolo o una transición epsilon\n",
    "class CharWithEpsilon:\n",
    "    def __init__(self, char: Optional[str] = None):\n",
    "        self.char = char  # Si char es None, representa una transición epsilon\n",
    "\n",
    "    def __str__(self):\n",
    "        return self.char if self.char else 'ε'\n",
    "\n",
    "    def __eq__(self, other):\n",
    "        return isinstance(other, CharWithEpsilon) and self.char == other.char\n",
    "\n",
    "    def __hash__(self):\n",
    "        return hash(self.char)\n",
    "#esta clase representa un estado de un autómata finito\n",
    "class State:\n",
    "    def __init__(self, name: str):\n",
    "        self.name = name\n",
    "\n",
    "    def __str__(self):\n",
    "        return self.name\n",
    "\n",
    "    def __repr__(self):\n",
    "        return f\"State({self.name})\"\n",
    "\n",
    "    def __eq__(self, other):\n",
    "        return isinstance(other, State) and self.name == other.name\n",
    "\n",
    "    def __hash__(self):\n",
    "        return hash(self.name)"
   ]
  },
  {
   "cell_type": "markdown",
   "metadata": {},
   "source": [
    "## AutomataFinito\n",
    "[regresar](#indice)"
   ]
  },
  {
   "cell_type": "code",
   "execution_count": 15,
   "metadata": {},
   "outputs": [],
   "source": [
    "# Clase base para autómatas finitos\n",
    "class AutomataFinito:\n",
    "    def __init__(self, states=None, init_state=None, final_states=None):\n",
    "        self.states = states if states is not None else []  # Lista de estados\n",
    "        self.init_state = init_state if init_state is not None else 0  # Estado inicial\n",
    "        self.final_states = final_states if final_states is not None else set()  # Conjunto de estados finales\n",
    "        self.delta = {}  # Diccionario para la función de transición\n",
    "\n",
    "    def set_states(self, states):\n",
    "        self.states = states\n",
    "\n",
    "    def set_init_state(self, init_state):\n",
    "        self.init_state = init_state\n",
    "\n",
    "    def set_final_states(self, final_states):\n",
    "        self.final_states = final_states"
   ]
  },
  {
   "cell_type": "markdown",
   "metadata": {},
   "source": [
    "## DFA\n",
    "[regresar](#indice)"
   ]
  },
  {
   "cell_type": "code",
   "execution_count": 16,
   "metadata": {},
   "outputs": [],
   "source": [
    "# Clase DFA que representa un autómata finito determinista\n",
    "class DFA(AutomataFinito):\n",
    "    def __init__(self, states=None, init_state=None, final_states=None):\n",
    "        super().__init__(states, init_state, final_states)\n",
    "        self.delta = {}  # Dict[str, Dict[Symbol, str]] para la función de transición\n",
    "\n",
    "    def set_delta(self, delta: Dict[str, Dict[str, str]]):\n",
    "        self.delta = delta\n",
    "\n",
    "    def add_transition(self, from_state: str, symbol: str, to_state: str):\n",
    "        if from_state not in self.delta:\n",
    "            self.delta[from_state] = {}\n",
    "        self.delta[from_state][symbol] = to_state"
   ]
  },
  {
   "cell_type": "markdown",
   "metadata": {},
   "source": [
    "## NFAE \n",
    "[regresar](#indice)"
   ]
  },
  {
   "cell_type": "code",
   "execution_count": 17,
   "metadata": {},
   "outputs": [],
   "source": [
    "# Clase NFAE que representa un autómata finito no determinista con transiciones epsilon\n",
    "class NFAE(AutomataFinito):\n",
    "    def __init__(self, states=None, init_state=None, final_states=None):\n",
    "        super().__init__(states, init_state, final_states)\n",
    "        self.delta = {}  # Dict[str, Dict[CharWithEpsilon, Set[str]]] para la función de transición\n",
    "\n",
    "    def set_delta(self, delta: Dict[str, Dict[CharWithEpsilon, Set[str]]]):\n",
    "        self.delta = delta\n",
    "\n",
    "    def add_transition(self, from_state: str, symbol: CharWithEpsilon, to_states: Set[str]):\n",
    "        if from_state not in self.delta:\n",
    "            self.delta[from_state] = {}\n",
    "        if symbol not in self.delta[from_state]:\n",
    "            self.delta[from_state][symbol] = set()\n",
    "        self.delta[from_state][symbol].update(to_states)\n",
    "\n",
    "    def has_epsilon_transitions(self, state: str) -> bool:\n",
    "        \"\"\"Verifica si el estado actual puede transicionar con epsilon.\"\"\"\n",
    "        return CharWithEpsilon(None) in self.delta.get(state, {})"
   ]
  },
  {
   "cell_type": "markdown",
   "metadata": {},
   "source": [
    "### Ejemplo de uso 2\n",
    "[regresar](#indice)"
   ]
  },
  {
   "cell_type": "code",
   "execution_count": 18,
   "metadata": {},
   "outputs": [
    {
     "name": "stdout",
     "output_type": "stream",
     "text": [
      "True\n",
      "False\n"
     ]
    }
   ],
   "source": [
    "# Ejemplo de uso\n",
    "nfae = NFAE(states=['q0', 'q1', 'q2'], init_state='q0', final_states={'q2'})\n",
    "epsilon = CharWithEpsilon()  # Epsilon\n",
    "nfae.add_transition('q0', epsilon, {'q1'})\n",
    "nfae.add_transition('q1', CharWithEpsilon('a'), {'q2'})\n",
    "\n",
    "print(nfae.has_epsilon_transitions('q0'))  # Salida: True\n",
    "print(nfae.has_epsilon_transitions('q1'))  # Salida: False"
   ]
  },
  {
   "cell_type": "markdown",
   "metadata": {},
   "source": [
    "## Implementacion de las funciones de la tarea\n",
    "1. [simbolos y cadenas](#simbolos-y-cadenas)\n",
    "1. [prefix](#prefix)\n",
    "1. [membership](#membership)\n",
    "- [regresar](#indice)"
   ]
  },
  {
   "cell_type": "markdown",
   "metadata": {},
   "source": [
    "### Simbolos y cadenas"
   ]
  },
  {
   "cell_type": "code",
   "execution_count": 19,
   "metadata": {},
   "outputs": [
    {
     "name": "stdout",
     "output_type": "stream",
     "text": [
      "n\n"
     ]
    }
   ],
   "source": [
    "#funcion que debuelve el simbolo mas a la derecha. En caso de que no haya simbolos, devuelve \\epsilon\n",
    "def first(word: str) -> str:\n",
    "    if not word:\n",
    "        return Symbol('ε')\n",
    "    return word[-1]\n",
    "\n",
    "print(first('abn'))  "
   ]
  },
  {
   "cell_type": "markdown",
   "metadata": {},
   "source": [
    "## Prefix\n",
    "[regresar](#indice)"
   ]
  },
  {
   "cell_type": "code",
   "execution_count": 20,
   "metadata": {},
   "outputs": [
    {
     "name": "stdout",
     "output_type": "stream",
     "text": [
      "ab\n"
     ]
    }
   ],
   "source": [
    "def prefix(word: Word) -> Word:\n",
    "    if not word.symbols:  \n",
    "        return Word([Symbol(\"ε\")])\n",
    "    return Word(word.symbols[:-1])  \n",
    "\n",
    "print(prefix(Word([Symbol('a'), Symbol('b'), Symbol('c')])))  # Salida: {a, b}"
   ]
  },
  {
   "cell_type": "markdown",
   "metadata": {},
   "source": [
    "## Membership\n",
    "[regresar](#indice)"
   ]
  },
  {
   "cell_type": "code",
   "execution_count": 21,
   "metadata": {},
   "outputs": [
    {
     "name": "stdout",
     "output_type": "stream",
     "text": [
      "ab esta en el lenguaje{b, a}?\n",
      "False\n"
     ]
    }
   ],
   "source": [
    "def membership(Word: Word, Language: Language)->bool:\n",
    "    return str(Word)in Language\n",
    "a=Symbol('a') \n",
    "b=Symbol('b')\n",
    "palabra1=Word([a,b])\n",
    "lenguaje = Language(str(palabra1))\n",
    "print(str(palabra1)+\" esta en el lenguaje\"+str(lenguaje)+\"?\")\n",
    "print(membership(palabra1,lenguaje))\n",
    "#creacion de un alfabeto\n",
    "#alfabeto = Alphabet([str(a),str(b)])\n",
    "#print(type(alfabeto))"
   ]
  },
  {
   "cell_type": "markdown",
   "metadata": {},
   "source": [
    "## Clousure\n",
    "[regresar](#indice)"
   ]
  },
  {
   "cell_type": "code",
   "execution_count": 22,
   "metadata": {},
   "outputs": [],
   "source": [
    "def draw_nfae(nfae):\n",
    "    dot = Digraph()\n",
    "\n",
    "    # Añadir nodos de aceptación y otros nodos\n",
    "    for state in nfae.states:\n",
    "        if state in nfae.accept_states:\n",
    "            dot.node(str(state), shape=\"doublecircle\")  # Nodo de aceptación\n",
    "        else:\n",
    "            dot.node(str(state), shape=\"circle\")  # Nodo normal\n",
    "\n",
    "    # Añadir transiciones, incluyendo las transiciones epsilon\n",
    "    for state, transitions in nfae.transitions.items():\n",
    "        for symbol, next_states in transitions.items():\n",
    "            for next_state in next_states:\n",
    "                dot.edge(str(state), str(next_state), label=str(symbol))\n",
    "    \n",
    "    # Añadir estado inicial\n",
    "    dot.node('', shape=\"none\")  # Nodo vacío para la transición al estado inicial\n",
    "    dot.edge('', str(nfae.start_state))\n",
    "\n",
    "    return dot\n"
   ]
  },
  {
   "cell_type": "code",
   "execution_count": 23,
   "metadata": {},
   "outputs": [
    {
     "ename": "TypeError",
     "evalue": "unhashable type: 'Symbol'",
     "output_type": "error",
     "traceback": [
      "\u001b[1;31m---------------------------------------------------------------------------\u001b[0m",
      "\u001b[1;31mTypeError\u001b[0m                                 Traceback (most recent call last)",
      "Cell \u001b[1;32mIn[23], line 19\u001b[0m\n\u001b[0;32m     15\u001b[0m state_q0 \u001b[38;5;241m=\u001b[39m State(\u001b[38;5;124m\"\u001b[39m\u001b[38;5;124mq0\u001b[39m\u001b[38;5;124m\"\u001b[39m)\n\u001b[0;32m     16\u001b[0m state_q1 \u001b[38;5;241m=\u001b[39m State(\u001b[38;5;124m\"\u001b[39m\u001b[38;5;124mq1\u001b[39m\u001b[38;5;124m\"\u001b[39m)\n\u001b[0;32m     17\u001b[0m nfae \u001b[38;5;241m=\u001b[39m NFAE(\n\u001b[0;32m     18\u001b[0m     states\u001b[38;5;241m=\u001b[39m{state_q0, state_q1},\n\u001b[1;32m---> 19\u001b[0m     alphabet\u001b[38;5;241m=\u001b[39m{Symbol(\u001b[38;5;124m\"\u001b[39m\u001b[38;5;124ma\u001b[39m\u001b[38;5;124m\"\u001b[39m)},\n\u001b[0;32m     20\u001b[0m     transitions\u001b[38;5;241m=\u001b[39m{state_q0: {\u001b[38;5;124m\"\u001b[39m\u001b[38;5;124mε\u001b[39m\u001b[38;5;124m\"\u001b[39m: {state_q1}}},\n\u001b[0;32m     21\u001b[0m     start_state\u001b[38;5;241m=\u001b[39mstate_q0,\n\u001b[0;32m     22\u001b[0m     accept_states\u001b[38;5;241m=\u001b[39m{state_q1}\n\u001b[0;32m     23\u001b[0m )\n\u001b[0;32m     24\u001b[0m \u001b[38;5;66;03m# Llamamos a closure para obtener la cerradura epsilon del estado q0\u001b[39;00m\n\u001b[0;32m     25\u001b[0m cerradura_q0 \u001b[38;5;241m=\u001b[39m closure(nfae, state_q0)\n",
      "\u001b[1;31mTypeError\u001b[0m: unhashable type: 'Symbol'"
     ]
    }
   ],
   "source": [
    "def closure(nfae: NFAE, state: State) -> Set[State]:\n",
    "    closure_set = set()\n",
    "    stack = [state]\n",
    "    \n",
    "    while stack:\n",
    "        current = stack.pop()\n",
    "        if current not in closure_set:\n",
    "            closure_set.add(current)\n",
    "            if current in nfae.transitions and \"ε\" in nfae.transitions[current]:\n",
    "                stack.extend(nfae.transitions[current][\"ε\"])\n",
    "    \n",
    "    return closure_set\n",
    "\n",
    "# Definimos un ε-AFN con estados y transiciones\n",
    "state_q0 = State(\"q0\")\n",
    "state_q1 = State(\"q1\")\n",
    "nfae = NFAE(\n",
    "    states={state_q0, state_q1},\n",
    "    alphabet={Symbol(\"a\")},\n",
    "    transitions={state_q0: {\"ε\": {state_q1}}},\n",
    "    start_state=state_q0,\n",
    "    accept_states={state_q1}\n",
    ")\n",
    "# Llamamos a closure para obtener la cerradura epsilon del estado q0\n",
    "cerradura_q0 = closure(nfae, state_q0)\n",
    "print(cerradura_q0)  # Debe imprimir {state_q0, state_q1}\n",
    "dot_nfae = draw_nfae(cerradura_q0)\n",
    "dot_nfae.render(\"nfae\", format=\"png\", view=True)\n"
   ]
  },
  {
   "cell_type": "markdown",
   "metadata": {},
   "source": [
    "## Accept\n",
    "[regresar](#indice)"
   ]
  },
  {
   "cell_type": "code",
   "execution_count": null,
   "metadata": {},
   "outputs": [],
   "source": []
  },
  {
   "cell_type": "code",
   "execution_count": 107,
   "metadata": {},
   "outputs": [],
   "source": [
    "from graphviz import Digraph\n",
    "class Symbol:\n",
    "    def __init__(self, symbol: str):\n",
    "        self.symbol = symbol\n",
    "\n",
    "    def __str__(self):\n",
    "        return self.symbol\n",
    "\n",
    "    def __repr__(self):\n",
    "        return f\"Symbol({self.symbol})\"\n",
    "\n",
    "    def __eq__(self, other):\n",
    "        return isinstance(other, Symbol) and self.symbol == other.symbol\n",
    "\n",
    "    def __hash__(self):\n",
    "        return hash(self.symbol)\n",
    "\n",
    "class DFA:\n",
    "    def __init__(self, states, alphabet, transitions, start_state, accept_states):\n",
    "        self.states = states\n",
    "        self.alphabet = alphabet\n",
    "        self.transitions = transitions\n",
    "        self.start_state = start_state\n",
    "        self.accept_states = accept_states\n",
    "\n",
    "class NFAE:\n",
    "    def __init__(self, states, alphabet, transitions, start_state, accept_states):\n",
    "        self.states = states\n",
    "        self.alphabet = alphabet\n",
    "        self.transitions = transitions\n",
    "        self.start_state = start_state\n",
    "        self.accept_states = accept_states\n",
    "\n",
    "\n",
    "def draw_dfa(dfa):\n",
    "    dot = Digraph()\n",
    "\n",
    "    # Añadir nodos de aceptación y otros nodos\n",
    "    for state in dfa.states:\n",
    "        if state in dfa.accept_states:\n",
    "            dot.node(str(state), shape=\"doublecircle\")  # Nodo de aceptación\n",
    "        else:\n",
    "            dot.node(str(state), shape=\"circle\")  # Nodo normal\n",
    "\n",
    "    # Añadir transiciones\n",
    "    for state, transitions in dfa.transitions.items():\n",
    "        for symbol, next_state in transitions.items():\n",
    "            dot.edge(str(state), str(next_state), label=str(symbol))\n",
    "    \n",
    "    # Añadir estado inicial\n",
    "    dot.node('', shape=\"none\")  # Nodo vacío para la transición al estado inicial\n",
    "    dot.edge('', str(dfa.start_state))\n",
    "\n",
    "    return dot\n"
   ]
  },
  {
   "cell_type": "code",
   "execution_count": null,
   "metadata": {},
   "outputs": [],
   "source": [
    "# Supongamos que tienes un DFA con ciertos estados y transiciones\n",
    "dfa = DFA(\n",
    "    states={State(\"q0\"), State(\"q1\")},\n",
    "    alphabet={Symbol(\"a\"), Symbol(\"b\")},\n",
    "    transitions={\n",
    "        State(\"q0\"): {Symbol(\"a\"): State(\"q1\")},\n",
    "        State(\"q1\"): {Symbol(\"b\"): State(\"q0\")}\n",
    "    },\n",
    "    start_state=State(\"q0\"),\n",
    "    accept_states={State(\"q1\")}\n",
    ")\n",
    "\n",
    "# Generar y visualizar el autómata gráfico\n",
    "dot_dfa = draw_dfa(dfa)\n",
    "dot_dfa.render(\"dfa\", format=\"png\", view=True)  # Esto guardará la imagen como 'dfa.png' y la abrirá\n"
   ]
  }
 ],
 "metadata": {
  "kernelspec": {
   "display_name": "Python 3",
   "language": "python",
   "name": "python3"
  },
  "language_info": {
   "codemirror_mode": {
    "name": "ipython",
    "version": 3
   },
   "file_extension": ".py",
   "mimetype": "text/x-python",
   "name": "python",
   "nbconvert_exporter": "python",
   "pygments_lexer": "ipython3",
   "version": "3.11.1"
  }
 },
 "nbformat": 4,
 "nbformat_minor": 2
}
