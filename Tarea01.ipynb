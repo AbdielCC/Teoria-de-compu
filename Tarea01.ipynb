{
 "cells": [
  {
   "cell_type": "markdown",
   "metadata": {},
   "source": [
    "# Tarea 01\n",
    "## Teoria de la computacion\n",
    "![img](https://imgs.search.brave.com/IGJUOrKWTz-bnFOL4hGIv6Id086V-tWx4rqhK79G2yU/rs:fit:860:0:0:0/g:ce/aHR0cHM6Ly93YWxs/cGFwZXJzLmNvbS9p/bWFnZXMvZmVhdHVy/ZWQvc29sby1sZXZl/bGluZy00ay1yMHg3/MXFzeG51eGU3Z3pv/LmpwZw)"
   ]
  },
  {
   "cell_type": "code",
   "execution_count": 99,
   "metadata": {},
   "outputs": [],
   "source": [
    "# Clase RE que representa una expresión regular\n",
    "from abc import ABC, abstractmethod\n",
    "from typing import Dict, Set, List, Union,Optional\n",
    "\n",
    "# Clase Symbol que representa un símbolo ASCII o ε\n",
    "class Symbol:\n",
    "    def __init__(self, char: str):\n",
    "        if char == \"ε\" or (len(char) == 1 and ord(char) < 128):\n",
    "            self.char = char\n",
    "        else:\n",
    "            raise ValueError(\"El símbolo debe ser un carácter ASCII o ε\")\n",
    "\n",
    "    def __eq__(self, other):\n",
    "        return isinstance(other, Symbol) and self.char == other.char\n",
    "\n",
    "    def __lt__(self, other):\n",
    "        return isinstance(other, Symbol) and self.char < other.char\n",
    "\n",
    "    def __str__(self):\n",
    "        return self.char\n",
    "class Symbol:\n",
    "    def __init__(self, value: str):\n",
    "        self.value = value\n",
    "\n",
    "    def __str__(self):\n",
    "        return self.value\n",
    "\n",
    "    def __eq__(self, other):\n",
    "        if isinstance(other, Symbol):\n",
    "            return self.value == other.value\n",
    "        return False\n",
    "\n",
    "    def __hash__(self):\n",
    "        return hash(self.value)\n",
    "\n",
    "# Clase Alphabet que representa un alfabeto\n",
    "class Alphabet:\n",
    "    def __init__(self, symbols=None):\n",
    "        if symbols is None:\n",
    "            symbols = set()\n",
    "        self.symbols = set(symbols)\n",
    "\n",
    "    def add_symbol(self, symbol: Symbol):\n",
    "        self.symbols.add(symbol)\n",
    "\n",
    "    def __contains__(self, symbol):\n",
    "        return symbol in self.symbols\n",
    "\n",
    "    def __str__(self):\n",
    "        return \"{\" + \", \".join(str(s) for s in self.symbols) + \"}\"\n",
    "\n",
    "# Clase Word que representa una cadena de símbolos\n",
    "class Word:\n",
    "    def __init__(self, symbols=None):\n",
    "        if symbols is None:\n",
    "            symbols = []\n",
    "        self.symbols = symbols\n",
    "\n",
    "    def __eq__(self, other):\n",
    "        return isinstance(other, Word) and self.symbols == other.symbols\n",
    "\n",
    "    def __str__(self):\n",
    "        if not self.symbols:\n",
    "            return \"ε\"\n",
    "        return \"\".join(str(symbol) for symbol in self.symbols)\n",
    "\n",
    "# Clase Language que representa un lenguaje \n",
    "class Language:\n",
    "    def __init__(self, words=None):\n",
    "        if words is None:\n",
    "            words = set()\n",
    "        self.words = set(words)\n",
    "\n",
    "    def add_word(self, word: Word):\n",
    "        self.words.add(word)\n",
    "\n",
    "    def __contains__(self, word):\n",
    "        return word in self.words\n",
    "\n",
    "    def __str__(self):\n",
    "        return \"{\" + \", \".join(str(w) for w in self.words) + \"}\"\n",
    "\n",
    "\n",
    "\n",
    "# Clase abstracta base para todas las expresiones regulares\n",
    "class RE(ABC):\n",
    "    @abstractmethod\n",
    "    def __str__(self):\n",
    "        pass\n",
    "\n",
    "# Clase que representa la expresión regular vacía (Empty)\n",
    "class Empty(RE):\n",
    "    def __str__(self):\n",
    "        return \"∅\"\n",
    "\n",
    "# Clase que representa el lenguaje {ε} (Epsilon)\n",
    "class Epsilon(RE):\n",
    "    def __str__(self):\n",
    "        return \"ε\"\n",
    "\n",
    "# Clase que representa un símbolo ASCII (Sym)\n",
    "class Sym(RE):\n",
    "    def __init__(self, char: str):\n",
    "        self.char = char\n",
    "\n",
    "    def __str__(self):\n",
    "        return self.char\n",
    "\n",
    "# Clase que representa la concatenación de dos expresiones regulares (Conc)\n",
    "class Conc(RE):\n",
    "    def __init__(self, e1: RE, e2: RE):\n",
    "        self.e1 = e1\n",
    "        self.e2 = e2\n",
    "\n",
    "    def __str__(self):\n",
    "        return f\"({self.e1} . {self.e2})\"\n",
    "\n",
    "# Clase que representa la unión de dos expresiones regulares \n",
    "class Union(RE):\n",
    "    def __init__(self, e1: RE, e2: RE):\n",
    "        self.e1 = e1\n",
    "        self.e2 = e2\n",
    "\n",
    "    def __str__(self):\n",
    "        return f\"({self.e1} + {self.e2})\"\n",
    "\n",
    "# Clase que representa la estrella de Kleene de una expresión regular \n",
    "class Kleene(RE):\n",
    "    def __init__(self, e: RE):\n",
    "        self.e = e\n",
    "\n",
    "    def __str__(self):\n",
    "        return f\"({self.e})*\"\n",
    "\n",
    "# Clase AutomataFinito como base para AFD y AFNE\n",
    "\n",
    "\n",
    "# Clase para representar un símbolo o una transición epsilon\n",
    "class CharWithEpsilon:\n",
    "    def __init__(self, char: Optional[str] = None):\n",
    "        self.char = char  # Si char es None, representa una transición epsilon\n",
    "\n",
    "    def __str__(self):\n",
    "        return self.char if self.char else 'ε'\n",
    "\n",
    "    def __eq__(self, other):\n",
    "        return isinstance(other, CharWithEpsilon) and self.char == other.char\n",
    "\n",
    "    def __hash__(self):\n",
    "        return hash(self.char)\n",
    "\n",
    "# Clase base para autómatas finitos\n",
    "class AutomataFinito:\n",
    "    def __init__(self, states=None, init_state=None, final_states=None):\n",
    "        self.states = states if states is not None else []  # Lista de estados\n",
    "        self.init_state = init_state if init_state is not None else 0  # Estado inicial\n",
    "        self.final_states = final_states if final_states is not None else set()  # Conjunto de estados finales\n",
    "        self.delta = {}  # Diccionario para la función de transición\n",
    "\n",
    "    def set_states(self, states):\n",
    "        self.states = states\n",
    "\n",
    "    def set_init_state(self, init_state):\n",
    "        self.init_state = init_state\n",
    "\n",
    "    def set_final_states(self, final_states):\n",
    "        self.final_states = final_states\n",
    "\n",
    "# Clase DFA que representa un autómata finito determinista\n",
    "class DFA(AutomataFinito):\n",
    "    def __init__(self, states=None, init_state=None, final_states=None):\n",
    "        super().__init__(states, init_state, final_states)\n",
    "        self.delta = {}  # Dict[str, Dict[Symbol, str]] para la función de transición\n",
    "\n",
    "    def set_delta(self, delta: Dict[str, Dict[str, str]]):\n",
    "        self.delta = delta\n",
    "\n",
    "    def add_transition(self, from_state: str, symbol: str, to_state: str):\n",
    "        if from_state not in self.delta:\n",
    "            self.delta[from_state] = {}\n",
    "        self.delta[from_state][symbol] = to_state\n",
    "\n",
    "# Clase NFAE que representa un autómata finito no determinista con transiciones epsilon\n",
    "class NFAE(AutomataFinito):\n",
    "    def __init__(self, states=None, init_state=None, final_states=None):\n",
    "        super().__init__(states, init_state, final_states)\n",
    "        self.delta = {}  # Dict[str, Dict[CharWithEpsilon, Set[str]]] para la función de transición\n",
    "\n",
    "    def set_delta(self, delta: Dict[str, Dict[CharWithEpsilon, Set[str]]]):\n",
    "        self.delta = delta\n",
    "\n",
    "    def add_transition(self, from_state: str, symbol: CharWithEpsilon, to_states: Set[str]):\n",
    "        if from_state not in self.delta:\n",
    "            self.delta[from_state] = {}\n",
    "        if symbol not in self.delta[from_state]:\n",
    "            self.delta[from_state][symbol] = set()\n",
    "        self.delta[from_state][symbol].update(to_states)\n",
    "\n",
    "    def has_epsilon_transitions(self, estado: str) -> bool:\n",
    "        \"\"\"Verifica si el estado actual puede transicionar con epsilon.\"\"\"\n",
    "        return CharWithEpsilon(None) in self.delta.get(estado, {})"
   ]
  },
  {
   "cell_type": "markdown",
   "metadata": {},
   "source": [
    "## First"
   ]
  },
  {
   "cell_type": "code",
   "execution_count": 100,
   "metadata": {},
   "outputs": [
    {
     "name": "stdout",
     "output_type": "stream",
     "text": [
      "n\n"
     ]
    }
   ],
   "source": [
    "#funcion que debuelve el simbolo mas a la derecha. En caso de que no haya simbolos, devuelve \\epsilon\n",
    "def first(word: str) -> str:\n",
    "    if not word:\n",
    "        return Symbol('ε')\n",
    "    return word[-1]\n",
    "#devuelve la subcadena sin el simbolo mas a la derecha\n",
    "print(first('abn'))"
   ]
  },
  {
   "cell_type": "markdown",
   "metadata": {},
   "source": [
    "## Prefix"
   ]
  },
  {
   "cell_type": "code",
   "execution_count": 101,
   "metadata": {},
   "outputs": [
    {
     "name": "stdout",
     "output_type": "stream",
     "text": [
      "ab\n"
     ]
    }
   ],
   "source": [
    "def prefix(word: Word) -> Word:\n",
    "    if not word.symbols:  \n",
    "        return Word([Symbol(\"ε\")])\n",
    "    return Word(word.symbols[:-1])  \n",
    "\n",
    "print(prefix(Word([Symbol('a'), Symbol('b'), Symbol('c')])))"
   ]
  },
  {
   "cell_type": "markdown",
   "metadata": {},
   "source": [
    "## Membership"
   ]
  },
  {
   "cell_type": "code",
   "execution_count": 102,
   "metadata": {},
   "outputs": [
    {
     "name": "stdout",
     "output_type": "stream",
     "text": [
      "ab esta en el lenguaje{a, b}?\n",
      "False\n"
     ]
    }
   ],
   "source": [
    "#indica si cadena esta en un lenguaje\n",
    "def membership(Word: Word, Language: Language)->bool:\n",
    "    return str(Word)in Language\n",
    "a=Symbol('a') \n",
    "b=Symbol('b')\n",
    "palabra1=Word([a,b])\n",
    "lenguaje = Language(str(palabra1))\n",
    "print(str(palabra1)+\" esta en el lenguaje\"+str(lenguaje)+\"?\")\n",
    "print(membership(palabra1,lenguaje))"
   ]
  },
  {
   "cell_type": "markdown",
   "metadata": {},
   "source": [
    "## Clousure"
   ]
  },
  {
   "cell_type": "code",
   "execution_count": 103,
   "metadata": {},
   "outputs": [
    {
     "name": "stdout",
     "output_type": "stream",
     "text": [
      "ejemplo de clausura\n",
      "{'q2', 'q0'}\n",
      "{'q1'}\n"
     ]
    }
   ],
   "source": [
    "#clausura dado un epsilon automata y un estado regresa la cerradura de epsilon de ese estado\n",
    "def clousure(nfae: NFAE, estado: str) -> Set[str]:\n",
    "    stack = [estado]\n",
    "    closure = set()\n",
    "    while stack:\n",
    "        estado_actual = stack.pop()\n",
    "        closure.add(estado_actual)\n",
    "        if CharWithEpsilon(None) in nfae.delta.get(estado_actual, {}):\n",
    "            for siguiente_estado in nfae.delta[estado_actual][CharWithEpsilon(None)]:\n",
    "                if siguiente_estado not in closure:\n",
    "                    stack.append(siguiente_estado)\n",
    "    return closure\n",
    "#ejemplo de uso\n",
    "print(\"ejemplo de clausura\")\n",
    "nfae = NFAE()\n",
    "nfae.set_delta({\n",
    "    'q0': {\n",
    "        CharWithEpsilon('a'): {'q1'},\n",
    "        CharWithEpsilon(None): {'q2'}\n",
    "    },\n",
    "    'q1': {\n",
    "        CharWithEpsilon('b'): {'q2'}\n",
    "    }\n",
    "})\n",
    "print(clousure(nfae, 'q0')) \n",
    "print(clousure(nfae, 'q1'))  "
   ]
  },
  {
   "cell_type": "markdown",
   "metadata": {},
   "source": [
    "## Accept"
   ]
  },
  {
   "cell_type": "code",
   "execution_count": 104,
   "metadata": {},
   "outputs": [
    {
     "name": "stdout",
     "output_type": "stream",
     "text": [
      "ejemplo de accept\n",
      "True\n"
     ]
    }
   ],
   "source": [
    "#accept en esta se recibe una cadena y un epsilon automata y regresa si la cadena es aceptada por el automata o no\n",
    "def accept(nfae: NFAE, word: Word) -> bool:\n",
    "    estados_actuales = clousure(nfae, nfae.init_state)\n",
    "    for symbol in word.symbols:\n",
    "        siguiente_estado = set()\n",
    "        for estado in estados_actuales:\n",
    "            if CharWithEpsilon(str(symbol)) in nfae.delta.get(estado, {}):\n",
    "                siguiente_estado.update(nfae.delta[estado][CharWithEpsilon(str(symbol))])\n",
    "        estados_actuales = set()\n",
    "        for estado in siguiente_estado:\n",
    "            estados_actuales.update(clousure(nfae, estado))\n",
    "    return bool(estados_actuales & nfae.final_states)\n",
    "#ejemplo de uso\n",
    "print(\"ejemplo de accept\")\n",
    "nfae = NFAE()\n",
    "nfae.set_delta({\n",
    "    'q0': {\n",
    "        CharWithEpsilon('a'): {'q1'},\n",
    "        CharWithEpsilon(None): {'q2'}\n",
    "    },\n",
    "    'q1': {\n",
    "        CharWithEpsilon('b'): {'q2'}\n",
    "    }\n",
    "})\n",
    "nfae.set_init_state('q0')\n",
    "nfae.set_final_states({'q2'})\n",
    "word = Word([Symbol('a'), Symbol('b')])\n",
    "print(accept(nfae, word))  "
   ]
  },
  {
   "cell_type": "markdown",
   "metadata": {},
   "source": [
    "## Empty"
   ]
  },
  {
   "cell_type": "code",
   "execution_count": 105,
   "metadata": {},
   "outputs": [
    {
     "name": "stdout",
     "output_type": "stream",
     "text": [
      "ejemplo de empty\n",
      "False\n"
     ]
    }
   ],
   "source": [
    "#empty devuelve el epsilon automata que acepta el lenguaje vacio\n",
    "def empty() -> NFAE:\n",
    "    nfae = NFAE()\n",
    "    nfae.set_delta({\n",
    "        'q0': {}\n",
    "    })\n",
    "    nfae.set_init_state('q0')\n",
    "    nfae.set_final_states(set())\n",
    "    return nfae\n",
    "#ejemplo de uso\n",
    "print(\"ejemplo de empty\")\n",
    "nfae = empty()\n",
    "word = Word([Symbol('a'), Symbol('b')])\n",
    "print(accept(nfae, word))  "
   ]
  },
  {
   "cell_type": "markdown",
   "metadata": {},
   "source": [
    "## Epsilon"
   ]
  },
  {
   "cell_type": "code",
   "execution_count": 106,
   "metadata": {},
   "outputs": [
    {
     "name": "stdout",
     "output_type": "stream",
     "text": [
      "ejemplo de epsilon\n",
      "False\n"
     ]
    }
   ],
   "source": [
    "#epsilon devuelve el epsilon automata que acepta el lenguaje que solo contiene a epsilon\n",
    "def epsilon() -> NFAE:\n",
    "    nfae = NFAE()\n",
    "    nfae.set_delta({\n",
    "        'q0': {\n",
    "            CharWithEpsilon(None): {'q1'}\n",
    "        }\n",
    "    })\n",
    "    nfae.set_init_state('q0')\n",
    "    nfae.set_final_states({'q1'})\n",
    "    return nfae\n",
    "#ejemplo de uso\n",
    "print(\"ejemplo de epsilon\")\n",
    "nfae = epsilon()\n",
    "word = Word([Symbol('ε')])\n",
    "print(accept(nfae, word)) "
   ]
  },
  {
   "cell_type": "markdown",
   "metadata": {},
   "source": [
    "## Symbol"
   ]
  },
  {
   "cell_type": "code",
   "execution_count": 107,
   "metadata": {},
   "outputs": [
    {
     "name": "stdout",
     "output_type": "stream",
     "text": [
      "ejemplo de symbol\n",
      "True\n"
     ]
    }
   ],
   "source": [
    "#symbol esta recibe un simbolo y regresa el epsilon automata que acepta el lenguaje que acepta a la cadena a\n",
    "def symbol(symbol: Symbol) -> NFAE:\n",
    "    nfae = NFAE()\n",
    "    nfae.set_delta({\n",
    "        'q0': {\n",
    "            CharWithEpsilon(str(symbol)): {'q1'}\n",
    "        }\n",
    "    })\n",
    "    nfae.set_init_state('q0')\n",
    "    nfae.set_final_states({'q1'})\n",
    "    return nfae\n",
    "#ejemplo de uso\n",
    "print(\"ejemplo de symbol\")\n",
    "nfae = symbol(Symbol('a'))\n",
    "word = Word([Symbol('a')])\n",
    "print(accept(nfae, word)) "
   ]
  },
  {
   "cell_type": "markdown",
   "metadata": {},
   "source": [
    "## Union"
   ]
  },
  {
   "cell_type": "code",
   "execution_count": 108,
   "metadata": {},
   "outputs": [
    {
     "name": "stdout",
     "output_type": "stream",
     "text": [
      "ejemplo de union\n",
      "dict_items([('q0', {<__main__.CharWithEpsilon object at 0x0000015F801ADDD0>: {'q1'}, <__main__.CharWithEpsilon object at 0x0000015FFFBC8190>: {'q1'}})])\n",
      "{<__main__.CharWithEpsilon object at 0x0000015F801ADDD0>: {'q1'}, <__main__.CharWithEpsilon object at 0x0000015FFFBC8190>: {'q1'}}\n",
      "salida\n",
      "True\n"
     ]
    }
   ],
   "source": [
    "#union recibe dos epsilon automatas y regresa la union utilizando trnasiciones epsilon\n",
    "def union(nfae1: NFAE, nfae2: NFAE) -> NFAE:\n",
    "    nfae = NFAE()\n",
    "    nfae.set_init_state('q0')\n",
    "    nfae.set_final_states(nfae2.final_states|nfae1.final_states)\n",
    "    nfae.set_states(nfae1.states + nfae2.states)\n",
    "    nfae.set_delta({\n",
    "        'q0': {\n",
    "            CharWithEpsilon(None): {nfae1.init_state, nfae2.init_state}\n",
    "        }\n",
    "    })\n",
    "    for estado, transiciones in nfae1.delta.items():\n",
    "        nfae.delta[estado] = transiciones.copy()\n",
    "    for estado, transiciones in nfae2.delta.items():\n",
    "        if estado in nfae.delta:\n",
    "            nfae.delta[estado].update(transiciones)\n",
    "        else:\n",
    "            nfae.delta[estado] = transiciones\n",
    "    return nfae\n",
    "#ejemplo de uso\n",
    "print(\"ejemplo de union\")\n",
    "nfae1 = symbol(Symbol('a'))\n",
    "nfae2 = symbol(Symbol('b'))\n",
    "nfae = union(nfae1, nfae2)\n",
    "print(nfae.delta.items())  # Salida: dict_items([('q0', {ε: {'q1', 'q2'}}), ('q1', {'a': {'q2'}}), ('q2', {'b': {'q3'}})])\n",
    "print(nfae.delta.get('q0'))  # Salida: {ε: {'q1', 'q2'}}\n",
    "word = Word([Symbol('a')])\n",
    "print(\"salida\")\n",
    "print(accept(nfae, word))  # Salida: True\n",
    "#nota de los primeros outputs salen las direcciones de memoria de los estados, pero en el output final se muestra el estado en si"
   ]
  },
  {
   "cell_type": "markdown",
   "metadata": {},
   "source": [
    "## Concat"
   ]
  },
  {
   "cell_type": "code",
   "execution_count": 109,
   "metadata": {},
   "outputs": [
    {
     "name": "stdout",
     "output_type": "stream",
     "text": [
      "ejemplo de concat\n",
      "True\n"
     ]
    }
   ],
   "source": [
    "#concat recibe dos epsilon automatas y regresa la concatenacion de ambos utilizando transiciones epsilon\n",
    "def concat(nfae1: NFAE, nfae2: NFAE) -> NFAE:\n",
    "    nfae = NFAE()\n",
    "    nfae.set_init_state(nfae1.init_state)\n",
    "    nfae.set_final_states(nfae2.final_states)\n",
    "    nfae.set_states(nfae1.states + nfae2.states)\n",
    "\n",
    "    for estado, transiciones in nfae1.delta.items():\n",
    "        nfae.delta[estado] = transiciones.copy()\n",
    "\n",
    "    for estado, transiciones in nfae2.delta.items():\n",
    "        if estado in nfae.delta:\n",
    "            nfae.delta[estado].update(transiciones)\n",
    "        else:\n",
    "            nfae.delta[estado] = transiciones.copy()\n",
    "            \n",
    "    for estado in nfae1.final_states:\n",
    "        if estado not in nfae.delta:\n",
    "            nfae.delta[estado] = {}\n",
    "        if CharWithEpsilon(None) in nfae.delta[estado]:\n",
    "            nfae.delta[estado][CharWithEpsilon(None)].add(nfae2.init_state)\n",
    "        else:\n",
    "            nfae.delta[estado][CharWithEpsilon(None)] = {nfae2.init_state}\n",
    "    \n",
    "    return nfae\n",
    "\n",
    "# Ejemplo de uso\n",
    "print(\"ejemplo de concat\")\n",
    "nfae1 = symbol(Symbol('a'))\n",
    "nfae2 = symbol(Symbol('b'))\n",
    "nfae = concat(nfae1, nfae2)\n",
    "word = Word([Symbol('a'), Symbol('b')])\n",
    "print(accept(nfae, word))  "
   ]
  },
  {
   "cell_type": "markdown",
   "metadata": {},
   "source": [
    "## Kleene"
   ]
  },
  {
   "cell_type": "code",
   "execution_count": 110,
   "metadata": {},
   "outputs": [
    {
     "name": "stdout",
     "output_type": "stream",
     "text": [
      "True\n"
     ]
    }
   ],
   "source": [
    "#kleene recibe un epsilon automata y regresa la cerradura de kleene de ese automata\n",
    "def kleene(nfae: NFAE) -> NFAE:\n",
    "    nfae_kleene = NFAE()\n",
    "    nfae_kleene.set_init_state('q0')\n",
    "    nfae_kleene.set_final_states(nfae.final_states | {'q0'})\n",
    "    nfae_kleene.set_states(nfae.states + ['q0'])\n",
    "    \n",
    "    nfae_kleene.set_delta({\n",
    "        'q0': {\n",
    "            CharWithEpsilon(None): {nfae.init_state}\n",
    "        }\n",
    "    })\n",
    "    \n",
    "    for estado, transiciones in nfae.delta.items():\n",
    "        nfae_kleene.delta[estado] = transiciones.copy()\n",
    "    \n",
    "    for estado in nfae.final_states:\n",
    "        if estado not in nfae_kleene.delta:\n",
    "            nfae_kleene.delta[estado] = {}\n",
    "        if CharWithEpsilon(None) in nfae_kleene.delta[estado]:\n",
    "            nfae_kleene.delta[estado][CharWithEpsilon(None)].add(nfae.init_state)\n",
    "        else:\n",
    "            nfae_kleene.delta[estado][CharWithEpsilon(None)] = {nfae.init_state}\n",
    "\n",
    "        nfae_kleene.delta[estado][CharWithEpsilon(None)].add('q0')\n",
    "    \n",
    "    return nfae_kleene\n",
    "\n",
    "#ejemplo de uso\n",
    "nfae = symbol(Symbol('a'))\n",
    "nfae = kleene(nfae)\n",
    "word = Word([Symbol('a'), Symbol('a')])\n",
    "print(accept(nfae, word))  "
   ]
  },
  {
   "cell_type": "markdown",
   "metadata": {},
   "source": [
    "## ToEAFN"
   ]
  },
  {
   "cell_type": "code",
   "execution_count": 111,
   "metadata": {},
   "outputs": [
    {
     "name": "stdout",
     "output_type": "stream",
     "text": [
      "True\n",
      "True\n"
     ]
    }
   ],
   "source": [
    "#toEAFN Esta funcion recibe una expresion regular e y devuelve el $\\epsilon-AFN, E$ tal que $L(e)=L(E)$\n",
    "def ToEAFN(e: RE) -> NFAE:\n",
    "    if isinstance(e, Empty):\n",
    "        return empty()\n",
    "    elif isinstance(e, Epsilon):\n",
    "        return epsilon()\n",
    "    elif isinstance(e, Sym):\n",
    "        return symbol(Symbol(e.char))\n",
    "    elif isinstance(e, Conc):\n",
    "        nfae1 = ToEAFN(e.e1)\n",
    "        nfae2 = ToEAFN(e.e2)\n",
    "        return concat(nfae1, nfae2)\n",
    "    elif isinstance(e, Union):\n",
    "        nfae1 = ToEAFN(e.e1)\n",
    "        nfae2 = ToEAFN(e.e2)\n",
    "        return union(nfae1, nfae2)\n",
    "    elif isinstance(e, Kleene):\n",
    "        nfae = ToEAFN(e.e)\n",
    "        return kleene(nfae)\n",
    "    else:\n",
    "        raise ValueError(\"No se reconoce esa expresion regular\")\n",
    "#ejemplo de uso    \n",
    "regex =Kleene(Union(Sym('a'), Sym('b')))\n",
    "nfae = ToEAFN(regex)\n",
    "palabra1=Word([Symbol('a'),Symbol('a'),Symbol('a')])\n",
    "palabra2=Word([Symbol('b'),Symbol('b'),Symbol('b')])\n",
    "print(accept(nfae, palabra1))  \n",
    "print(accept(nfae, palabra2))  "
   ]
  }
 ],
 "metadata": {
  "kernelspec": {
   "display_name": "Python 3",
   "language": "python",
   "name": "python3"
  },
  "language_info": {
   "codemirror_mode": {
    "name": "ipython",
    "version": 3
   },
   "file_extension": ".py",
   "mimetype": "text/x-python",
   "name": "python",
   "nbconvert_exporter": "python",
   "pygments_lexer": "ipython3",
   "version": "3.11.1"
  }
 },
 "nbformat": 4,
 "nbformat_minor": 2
}
